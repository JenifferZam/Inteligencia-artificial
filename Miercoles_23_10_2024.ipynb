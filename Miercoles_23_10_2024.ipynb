{
  "nbformat": 4,
  "nbformat_minor": 0,
  "metadata": {
    "colab": {
      "provenance": [],
      "include_colab_link": true
    },
    "kernelspec": {
      "name": "python3",
      "display_name": "Python 3"
    },
    "language_info": {
      "name": "python"
    }
  },
  "cells": [
    {
      "cell_type": "markdown",
      "metadata": {
        "id": "view-in-github",
        "colab_type": "text"
      },
      "source": [
        "<a href=\"https://colab.research.google.com/github/JenifferZam/Inteligencia-artificial/blob/main/Miercoles_23_10_2024.ipynb\" target=\"_parent\"><img src=\"https://colab.research.google.com/assets/colab-badge.svg\" alt=\"Open In Colab\"/></a>"
      ]
    },
    {
      "cell_type": "code",
      "execution_count": null,
      "metadata": {
        "colab": {
          "base_uri": "https://localhost:8080/"
        },
        "id": "xt_rN66lp4IS",
        "outputId": "09b23e59-69e0-491d-dcf7-f3fd1c32bf24"
      },
      "outputs": [
        {
          "output_type": "stream",
          "name": "stdout",
          "text": [
            "3.10.12 (main, Sep 11 2024, 15:47:36) [GCC 11.4.0]\n"
          ]
        }
      ],
      "source": [
        "import sys\n",
        "print(sys.version)"
      ]
    },
    {
      "cell_type": "code",
      "source": [
        "numero=5\n",
        "tmp1=\"Jeniffer\"\n",
        "print(numero)\n",
        "print(f\"Mi nombre es {tmp1}\")\n",
        "print(numero+5)\n",
        "print(numero-3)\n",
        "print(numero*3)\n",
        "print(numero/3)\n",
        "print(numero%3)\n",
        "print(numero**3)\n",
        "numero *=2\n",
        "print(numero)\n",
        "print(type(numero))"
      ],
      "metadata": {
        "colab": {
          "base_uri": "https://localhost:8080/"
        },
        "id": "dDlL5nafr1Pv",
        "outputId": "59618266-8cdd-458f-e6b2-0d66adcd6eaf"
      },
      "execution_count": null,
      "outputs": [
        {
          "output_type": "stream",
          "name": "stdout",
          "text": [
            "5\n",
            "Mi nombre es Jeniffer\n",
            "10\n",
            "2\n",
            "15\n",
            "1.6666666666666667\n",
            "2\n",
            "125\n",
            "10\n",
            "<class 'int'>\n"
          ]
        }
      ]
    },
    {
      "cell_type": "code",
      "source": [
        "t=True\n",
        "f=False\n",
        "print(type(t))\n",
        "print(t and f)\n",
        "print(t or f)\n",
        "print(not t)\n",
        "print(t!=f)"
      ],
      "metadata": {
        "colab": {
          "base_uri": "https://localhost:8080/"
        },
        "id": "N7w-JbLAvnl-",
        "outputId": "7a597d19-9727-4757-c609-12556482a8b4"
      },
      "execution_count": null,
      "outputs": [
        {
          "output_type": "stream",
          "name": "stdout",
          "text": [
            "<class 'bool'>\n",
            "False\n",
            "True\n",
            "False\n",
            "True\n"
          ]
        }
      ]
    },
    {
      "cell_type": "code",
      "source": [
        "aux1='hello'\n",
        "aux2='world'\n",
        "aux3='JENI'\n",
        "print(aux1+aux2)\n",
        "print(aux1*4)\n",
        "print(aux1.capitalize())\n",
        "print(aux1.upper())\n",
        "print(aux3.lower())"
      ],
      "metadata": {
        "colab": {
          "base_uri": "https://localhost:8080/"
        },
        "id": "PmoOTsVtwetz",
        "outputId": "c38d745a-6b13-4d63-aed0-47c00f1e2073"
      },
      "execution_count": null,
      "outputs": [
        {
          "output_type": "stream",
          "name": "stdout",
          "text": [
            "helloworld\n",
            "hellohellohellohello\n",
            "Hello\n",
            "HELLO\n",
            "jeni\n"
          ]
        }
      ]
    },
    {
      "cell_type": "code",
      "source": [
        "aux2=list()\n",
        "aux2.append(4)\n",
        "aux2.append(\"jeniffer\")\n",
        "aux2.append(True)\n",
        "print(aux2)\n",
        "#print(aux2[0])\n",
        "print(aux2[1])\n",
        "#print(aux2[2])\n",
        "print(aux2[-1])\n",
        "#print(aux2[-2])\n",
        "#print(aux2[-3])\n",
        "print('********************')\n",
        "aux2[1]='juan'\n",
        "print(aux2)\n",
        "aux3=[1,2,3,'juan',True,False]\n",
        "print(aux3)\n",
        "aux3.pop()\n",
        "print(aux3)"
      ],
      "metadata": {
        "colab": {
          "base_uri": "https://localhost:8080/"
        },
        "id": "_Qs_32wMyDt3",
        "outputId": "436bd806-28ac-4a00-b40a-36b34a5bddbd"
      },
      "execution_count": null,
      "outputs": [
        {
          "output_type": "stream",
          "name": "stdout",
          "text": [
            "[4, 'jeniffer', True]\n",
            "jeniffer\n",
            "True\n",
            "********************\n",
            "[4, 'juan', True]\n",
            "[1, 2, 3, 'juan', True, False]\n",
            "[1, 2, 3, 'juan', True]\n"
          ]
        }
      ]
    },
    {
      "cell_type": "code",
      "source": [
        "tmp1=list(range(100))\n",
        "for x in tmp1:\n",
        "  print(f\"El valor es {x}\")"
      ],
      "metadata": {
        "colab": {
          "base_uri": "https://localhost:8080/"
        },
        "id": "ecavzYRa0YN2",
        "outputId": "d5d6e636-b82e-4e8c-aa35-40e66628219d"
      },
      "execution_count": null,
      "outputs": [
        {
          "output_type": "stream",
          "name": "stdout",
          "text": [
            "El valor es 0\n",
            "El valor es 1\n",
            "El valor es 2\n",
            "El valor es 3\n",
            "El valor es 4\n",
            "El valor es 5\n",
            "El valor es 6\n",
            "El valor es 7\n",
            "El valor es 8\n",
            "El valor es 9\n",
            "El valor es 10\n",
            "El valor es 11\n",
            "El valor es 12\n",
            "El valor es 13\n",
            "El valor es 14\n",
            "El valor es 15\n",
            "El valor es 16\n",
            "El valor es 17\n",
            "El valor es 18\n",
            "El valor es 19\n",
            "El valor es 20\n",
            "El valor es 21\n",
            "El valor es 22\n",
            "El valor es 23\n",
            "El valor es 24\n",
            "El valor es 25\n",
            "El valor es 26\n",
            "El valor es 27\n",
            "El valor es 28\n",
            "El valor es 29\n",
            "El valor es 30\n",
            "El valor es 31\n",
            "El valor es 32\n",
            "El valor es 33\n",
            "El valor es 34\n",
            "El valor es 35\n",
            "El valor es 36\n",
            "El valor es 37\n",
            "El valor es 38\n",
            "El valor es 39\n",
            "El valor es 40\n",
            "El valor es 41\n",
            "El valor es 42\n",
            "El valor es 43\n",
            "El valor es 44\n",
            "El valor es 45\n",
            "El valor es 46\n",
            "El valor es 47\n",
            "El valor es 48\n",
            "El valor es 49\n",
            "El valor es 50\n",
            "El valor es 51\n",
            "El valor es 52\n",
            "El valor es 53\n",
            "El valor es 54\n",
            "El valor es 55\n",
            "El valor es 56\n",
            "El valor es 57\n",
            "El valor es 58\n",
            "El valor es 59\n",
            "El valor es 60\n",
            "El valor es 61\n",
            "El valor es 62\n",
            "El valor es 63\n",
            "El valor es 64\n",
            "El valor es 65\n",
            "El valor es 66\n",
            "El valor es 67\n",
            "El valor es 68\n",
            "El valor es 69\n",
            "El valor es 70\n",
            "El valor es 71\n",
            "El valor es 72\n",
            "El valor es 73\n",
            "El valor es 74\n",
            "El valor es 75\n",
            "El valor es 76\n",
            "El valor es 77\n",
            "El valor es 78\n",
            "El valor es 79\n",
            "El valor es 80\n",
            "El valor es 81\n",
            "El valor es 82\n",
            "El valor es 83\n",
            "El valor es 84\n",
            "El valor es 85\n",
            "El valor es 86\n",
            "El valor es 87\n",
            "El valor es 88\n",
            "El valor es 89\n",
            "El valor es 90\n",
            "El valor es 91\n",
            "El valor es 92\n",
            "El valor es 93\n",
            "El valor es 94\n",
            "El valor es 95\n",
            "El valor es 96\n",
            "El valor es 97\n",
            "El valor es 98\n",
            "El valor es 99\n"
          ]
        }
      ]
    },
    {
      "cell_type": "code",
      "source": [
        "listaAnimales=list()\n",
        "listaAnimales.append('monkey')\n",
        "listaAnimales.append('donkey')\n",
        "listaAnimales.append('mouse')\n",
        "listaAnimales.append('cocodrile')\n",
        "listaAnimales.append('fish')\n",
        "print(listaAnimales)\n",
        "tmp1=listaAnimales[:3]\n",
        "print(\"Animales %s\"%(tmp1))\n",
        "\n",
        "tmp2=listaAnimales[2:]\n",
        "print(\"Animales %s\"%(tmp2))\n",
        "\n",
        "tmp3=listaAnimales[2:4]\n",
        "print(\"Animales %s\"%(tmp3))\n",
        "\n",
        "listaAnimales[2:4]=['bear','cow']\n",
        "print(listaAnimales)"
      ],
      "metadata": {
        "id": "IhaIfAjYWrtG",
        "outputId": "1eb2f1e6-0e3c-47d8-cbab-a333a0b313a0",
        "colab": {
          "base_uri": "https://localhost:8080/"
        }
      },
      "execution_count": 1,
      "outputs": [
        {
          "output_type": "stream",
          "name": "stdout",
          "text": [
            "['monkey', 'donkey', 'mouse', 'cocodrile', 'fish']\n",
            "Animales ['monkey', 'donkey', 'mouse']\n",
            "Animales ['mouse', 'cocodrile', 'fish']\n",
            "Animales ['mouse', 'cocodrile']\n",
            "['monkey', 'donkey', 'bear', 'cow', 'fish']\n"
          ]
        }
      ]
    },
    {
      "cell_type": "code",
      "source": [
        "for numero,animal in enumerate(listaAnimales):\n",
        "  print('%d: %s'%(numero+1,animal))"
      ],
      "metadata": {
        "id": "c2YUz7KVW_yV",
        "outputId": "40cd4a35-cded-48fe-da77-32c6dd47f62b",
        "colab": {
          "base_uri": "https://localhost:8080/"
        }
      },
      "execution_count": 2,
      "outputs": [
        {
          "output_type": "stream",
          "name": "stdout",
          "text": [
            "1: monkey\n",
            "2: donkey\n",
            "3: bear\n",
            "4: cow\n",
            "5: fish\n"
          ]
        }
      ]
    },
    {
      "cell_type": "code",
      "source": [
        "listNum=list(range(20))\n",
        "print(listNum)\n",
        "listNumCuadrado=list()\n",
        "\n",
        "for numero in listNum:\n",
        "  listNumCuadrado.append(numero**2)\n",
        "print(listNumCuadrado)"
      ],
      "metadata": {
        "id": "IZA7Ek9LXEZk",
        "outputId": "e0637b40-ce9a-4580-c02c-d38ffe1764f0",
        "colab": {
          "base_uri": "https://localhost:8080/"
        }
      },
      "execution_count": 3,
      "outputs": [
        {
          "output_type": "stream",
          "name": "stdout",
          "text": [
            "[0, 1, 2, 3, 4, 5, 6, 7, 8, 9, 10, 11, 12, 13, 14, 15, 16, 17, 18, 19]\n",
            "[0, 1, 4, 9, 16, 25, 36, 49, 64, 81, 100, 121, 144, 169, 196, 225, 256, 289, 324, 361]\n"
          ]
        }
      ]
    },
    {
      "cell_type": "code",
      "source": [
        "listCuadrados=[ i**2 for i in listNum]\n",
        "print(listCuadrados)"
      ],
      "metadata": {
        "id": "5dVW3AiDXIs3",
        "outputId": "63eef5bb-e41a-4fb2-d608-81aa1e291fed",
        "colab": {
          "base_uri": "https://localhost:8080/"
        }
      },
      "execution_count": 4,
      "outputs": [
        {
          "output_type": "stream",
          "name": "stdout",
          "text": [
            "[0, 1, 4, 9, 16, 25, 36, 49, 64, 81, 100, 121, 144, 169, 196, 225, 256, 289, 324, 361]\n"
          ]
        }
      ]
    },
    {
      "cell_type": "code",
      "source": [
        "listCuadrados=[ i for i in listNum if i%2==0]\n",
        "print(listCuadrados)"
      ],
      "metadata": {
        "id": "XeSCQ7mPXRUA",
        "outputId": "94fb8c5e-da65-41ba-ce5b-6efb46b7a514",
        "colab": {
          "base_uri": "https://localhost:8080/"
        }
      },
      "execution_count": 5,
      "outputs": [
        {
          "output_type": "stream",
          "name": "stdout",
          "text": [
            "[0, 2, 4, 6, 8, 10, 12, 14, 16, 18]\n"
          ]
        }
      ]
    },
    {
      "cell_type": "code",
      "source": [
        "myDictionary={'dog':'cute','cat':'nice','mouse':'small'}\n",
        "print(myDictionary)"
      ],
      "metadata": {
        "id": "gNVZ72JbXUB8",
        "outputId": "3ba12fe7-32fd-4895-f937-72d07b2131e2",
        "colab": {
          "base_uri": "https://localhost:8080/"
        }
      },
      "execution_count": 6,
      "outputs": [
        {
          "output_type": "stream",
          "name": "stdout",
          "text": [
            "{'dog': 'cute', 'cat': 'nice', 'mouse': 'small'}\n"
          ]
        }
      ]
    },
    {
      "cell_type": "code",
      "source": [
        "for key in myDictionary:\n",
        "  print(myDictionary[key])"
      ],
      "metadata": {
        "id": "ytpuuC6zXZz4",
        "outputId": "c5f2abc6-7628-4a7f-d86e-c919e72ba63c",
        "colab": {
          "base_uri": "https://localhost:8080/"
        }
      },
      "execution_count": 7,
      "outputs": [
        {
          "output_type": "stream",
          "name": "stdout",
          "text": [
            "cute\n",
            "nice\n",
            "small\n"
          ]
        }
      ]
    },
    {
      "cell_type": "code",
      "source": [
        "dictiCuadrado={'1':1,'2':4,'3':9,'4':16}\n",
        "print(dictiCuadrado)\n",
        "\n",
        "dictiCuadrado={ i:i**2 for i in listNum}\n",
        "print(dictiCuadrado)"
      ],
      "metadata": {
        "id": "8eh4gwrPXeW0",
        "outputId": "662a6630-fa24-4a5c-ece0-7787cb707a03",
        "colab": {
          "base_uri": "https://localhost:8080/"
        }
      },
      "execution_count": 8,
      "outputs": [
        {
          "output_type": "stream",
          "name": "stdout",
          "text": [
            "{'1': 1, '2': 4, '3': 9, '4': 16}\n",
            "{0: 0, 1: 1, 2: 4, 3: 9, 4: 16, 5: 25, 6: 36, 7: 49, 8: 64, 9: 81, 10: 100, 11: 121, 12: 144, 13: 169, 14: 196, 15: 225, 16: 256, 17: 289, 18: 324, 19: 361}\n"
          ]
        }
      ]
    },
    {
      "cell_type": "code",
      "source": [
        "setElementos={'monkey','donkey','mouse','cocodrile','fish'}\n",
        "print(setElementos)"
      ],
      "metadata": {
        "id": "jYR_EI4hXjJb",
        "outputId": "95d1cba9-c21e-41fd-894c-a96d7b5aa993",
        "colab": {
          "base_uri": "https://localhost:8080/"
        }
      },
      "execution_count": 9,
      "outputs": [
        {
          "output_type": "stream",
          "name": "stdout",
          "text": [
            "{'donkey', 'monkey', 'cocodrile', 'fish', 'mouse'}\n"
          ]
        }
      ]
    },
    {
      "cell_type": "code",
      "source": [
        "print('donkey' in setElementos)\n",
        "setElementos.add('bear')\n",
        "print(setElementos)\n",
        "#setElementos.remove('fish')\n",
        "print(setElementos)\n",
        "print(len(setElementos))"
      ],
      "metadata": {
        "id": "JqJpluDhXkzz",
        "outputId": "3ff9e0b8-6f9d-431d-ef73-6eea124eff00",
        "colab": {
          "base_uri": "https://localhost:8080/"
        }
      },
      "execution_count": 10,
      "outputs": [
        {
          "output_type": "stream",
          "name": "stdout",
          "text": [
            "True\n",
            "{'donkey', 'monkey', 'cocodrile', 'bear', 'fish', 'mouse'}\n",
            "{'donkey', 'monkey', 'cocodrile', 'bear', 'fish', 'mouse'}\n",
            "6\n"
          ]
        }
      ]
    },
    {
      "cell_type": "markdown",
      "source": [
        "FUNCIONES"
      ],
      "metadata": {
        "id": "xgNjwgM4Xo2z"
      }
    },
    {
      "cell_type": "code",
      "source": [
        "def sum(a,b):\n",
        "  return a+b\n",
        "\n",
        "\n",
        "tmp1=5\n",
        "tmp2=9\n",
        "print('La suma de los vaolres es igual:',sum(tmp1,tmp2))"
      ],
      "metadata": {
        "id": "_Ff40dU2XsDl",
        "outputId": "62ff689d-7c2e-4ed1-a081-9d18a97cf655",
        "colab": {
          "base_uri": "https://localhost:8080/"
        }
      },
      "execution_count": 11,
      "outputs": [
        {
          "output_type": "stream",
          "name": "stdout",
          "text": [
            "La suma de los vaolres es igual: 14\n"
          ]
        }
      ]
    },
    {
      "cell_type": "code",
      "source": [
        "listNumeros=[-1,5,0]\n",
        "\n",
        "\n",
        "def evaluacionSigno(tmp):\n",
        "  if tmp<0:\n",
        "    return 'El numero ingresado es negativo'\n",
        "  elif tmp>0:\n",
        "    return 'El numero ingresado es Positivo'\n",
        "  else:\n",
        "    return 'El numero ingresado es cero'\n",
        "\n",
        "for cadaNumero in listNumeros:\n",
        "  print(evaluacionSigno(cadaNumero))"
      ],
      "metadata": {
        "id": "Fz9ZO9f2XxC9",
        "outputId": "60f50cd7-a870-42a6-877c-b8c1e6f86d5f",
        "colab": {
          "base_uri": "https://localhost:8080/"
        }
      },
      "execution_count": 12,
      "outputs": [
        {
          "output_type": "stream",
          "name": "stdout",
          "text": [
            "El numero ingresado es negativo\n",
            "El numero ingresado es Positivo\n",
            "El numero ingresado es cero\n"
          ]
        }
      ]
    },
    {
      "cell_type": "markdown",
      "source": [
        "CLASES"
      ],
      "metadata": {
        "id": "QQa471n0X49v"
      }
    },
    {
      "cell_type": "code",
      "source": [
        "class saludos(object):\n",
        "  #construtor\n",
        "  def __init__(self, nombre):\n",
        "    self.nombre=nombre\n",
        "    #print('Se ejecuta automaticamente')\n",
        "  def mensaje(self):\n",
        "    print('Hola', (self.nombre))\n",
        "\n",
        "name1=saludos('Juan')\n",
        "#print(name1.nombre)\n",
        "name1.mensaje()"
      ],
      "metadata": {
        "id": "GWJrFRsDX6fH",
        "outputId": "3f5a31de-8506-4b65-8803-fe94554af367",
        "colab": {
          "base_uri": "https://localhost:8080/"
        }
      },
      "execution_count": 13,
      "outputs": [
        {
          "output_type": "stream",
          "name": "stdout",
          "text": [
            "Hola Juan\n"
          ]
        }
      ]
    },
    {
      "cell_type": "code",
      "source": [
        "class numeros(object):\n",
        "  def __init__(self,numero1, numero2):\n",
        "    self.numero1 = numero1\n",
        "    self.numero2 = numero2\n",
        "  def suma(self):\n",
        "        return self.numero1 + self.numero2\n",
        "\n",
        "problema1 = numeros(5, 9)\n",
        "print(problema1.suma())\n"
      ],
      "metadata": {
        "id": "a8LsWEbrX_LD",
        "outputId": "bd9a576a-4b83-4d97-d8b0-5d91e701400c",
        "colab": {
          "base_uri": "https://localhost:8080/"
        }
      },
      "execution_count": 25,
      "outputs": [
        {
          "output_type": "stream",
          "name": "stdout",
          "text": [
            "14\n"
          ]
        }
      ]
    }
  ]
}